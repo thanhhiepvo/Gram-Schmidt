{
 "cells": [
  {
   "cell_type": "markdown",
   "id": "b0fa5e5c",
   "metadata": {},
   "source": [
    "### Fullname: Võ Thanh Hiệp\n",
    "### Student ID: 21127275\n",
    "### Class: 21CLC03"
   ]
  },
  {
   "cell_type": "markdown",
   "id": "720ffdde",
   "metadata": {},
   "source": [
    "# 1) Algorithms\n",
    "\n",
    "## Gram – Schmidt\n",
    "### Let a square matrix A with n columns.\n",
    "  - **Step 1:** Let setU includes n vectors by column in matrix A.\n",
    "  - **Step 2:** Let setV includes n vector-Vs:\n",
    "      -  **Step 2.1:** Let i <- 0\n",
    "      -  **Step 2.2:** Let V[i] <- U[i]\n",
    "      -  **Step 2.3:** Let j <- 0\n",
    "      -  **Step 2.4:** V[i] <- V[i] - ((U[i] * V[j]) / (V[j] * V[j])) * V[j]\n",
    "      -  **Step 2.5:** j <- j + 1\n",
    "      -  **Step 2.6:** if j < i, goto Step 2.4\n",
    "      -  **Step 2.7:** if i < n, goto Step 2.2\n",
    " - **Step 3:** Let setQ includes n vector-Qs:\n",
    "      -  **Step 3.1:** Q[i] <- V[i] / (norm of V[i])\n",
    "\n",
    "## QR Decomposition\n",
    " - **Step 1:** Generate matrix Q from n vectors in setQ by Column\n",
    " - **Step 2:** Generate transpose matrix Q from matrix Q\n",
    " - **Step 3:** Multiple transpose matrix Q by matrix A, having matrix R\n",
    " - **Step 4:** Print matrix A, matrix Q and matrix R\n",
    " - **Step 5:** End."
   ]
  },
  {
   "cell_type": "code",
   "execution_count": 1,
   "id": "8311f7bc",
   "metadata": {},
   "outputs": [],
   "source": [
    "def printMatrix(Matrix):\n",
    "    nRow = len(Matrix)\n",
    "    for i in range(nRow - 1):\n",
    "        print(Matrix[i])\n",
    "    print(Matrix[nRow - 1], end=\"\")\n",
    "    print()\n",
    "    \n",
    "def inputMatrix():\n",
    "    n = int(input(\"Enter n (dim of matrix):\"))\n",
    "    \n",
    "    Matrix = []\n",
    "    for i in range(n):\n",
    "        line = []\n",
    "        for j in range(n):\n",
    "            cell = int(input(\"Enter the value in cell [\" + str(i + 1) + \"][\" + str(j + 1) + \"]:\"))\n",
    "            line.append(cell)\n",
    "        Matrix.append(line)\n",
    "    \n",
    "    return Matrix"
   ]
  },
  {
   "cell_type": "code",
   "execution_count": 2,
   "id": "8357fec0",
   "metadata": {},
   "outputs": [],
   "source": [
    "def getVectorByColumn(Matrix, row, column):\n",
    "    Set = []\n",
    "    for i in range(column):\n",
    "        vector = []\n",
    "        for j in range(row):\n",
    "            vector.append(Matrix[j][i])\n",
    "        Set.append(vector)\n",
    "        \n",
    "    return Set"
   ]
  },
  {
   "cell_type": "code",
   "execution_count": 3,
   "id": "f752fd91",
   "metadata": {},
   "outputs": [],
   "source": [
    "def dotProduct(fVector, sVector):\n",
    "    if len(fVector) != len(sVector):\n",
    "        return \"Cannot dot\"\n",
    "    \n",
    "    result = 0\n",
    "    n = len(fVector)\n",
    "    for i in range(n):\n",
    "        result += fVector[i] * sVector[i]\n",
    "        \n",
    "    return result"
   ]
  },
  {
   "cell_type": "code",
   "execution_count": 4,
   "id": "4f609cab",
   "metadata": {},
   "outputs": [],
   "source": [
    "def norm(vector):\n",
    "    result = 0\n",
    "    n = len(vector)\n",
    "    for i in range(n):\n",
    "        result += vector[i]**2\n",
    "        \n",
    "    return result**(1/2)"
   ]
  },
  {
   "cell_type": "code",
   "execution_count": 5,
   "id": "b5102b74",
   "metadata": {},
   "outputs": [],
   "source": [
    "def multipleVectorAndNumber(vector, a):\n",
    "    result = []\n",
    "    n = len(vector)\n",
    "    for i in range(n):\n",
    "        temp = vector[i] * a\n",
    "        result.append(temp)\n",
    "        \n",
    "    return result"
   ]
  },
  {
   "cell_type": "code",
   "execution_count": 6,
   "id": "915a478c",
   "metadata": {},
   "outputs": [],
   "source": [
    "def addTwoVectors(vector1, vector2):\n",
    "    Res_Vector = []\n",
    "    if len(vector1) != len(vector2):\n",
    "        print(\"Cannot add two vectors with different lengths\")\n",
    "        return\n",
    "    \n",
    "    length = len(vector1)\n",
    "    for i in range(length):\n",
    "        Res_Vector.append(vector1[i] + vector2[i])\n",
    "        \n",
    "    return Res_Vector"
   ]
  },
  {
   "cell_type": "code",
   "execution_count": 7,
   "id": "b8708112",
   "metadata": {},
   "outputs": [],
   "source": [
    "def generateMatrixFromSetOfColumnVectors(setVector):\n",
    "    n = len(setVector)\n",
    "    Matrix = []\n",
    "    \n",
    "    for i in range(n):\n",
    "        line = []\n",
    "        for j in range(n):\n",
    "            temp = setVector[j][i]\n",
    "            line.append(temp)\n",
    "        Matrix.append(line)\n",
    "        \n",
    "    return Matrix"
   ]
  },
  {
   "cell_type": "code",
   "execution_count": 8,
   "id": "c34e34bc",
   "metadata": {},
   "outputs": [],
   "source": [
    "def transposeMatrix(matrix):\n",
    "    n = len(matrix)\n",
    "    transpose_matrix = []\n",
    "    \n",
    "    for i in range(n):\n",
    "        line = []\n",
    "        for j in range(n):\n",
    "            line.append(matrix[j][i])\n",
    "        transpose_matrix.append(line)\n",
    "            \n",
    "    return transpose_matrix"
   ]
  },
  {
   "cell_type": "code",
   "execution_count": 9,
   "id": "7c8558fa",
   "metadata": {},
   "outputs": [],
   "source": [
    "def dotProduct(fVector, sVector):\n",
    "    if len(fVector) != len(sVector):\n",
    "        return \"Cannot dot\"\n",
    "    \n",
    "    result = 0\n",
    "    for i in range(len(fVector)):\n",
    "        result += fVector[i] * sVector[i]\n",
    "        \n",
    "    return result"
   ]
  },
  {
   "cell_type": "code",
   "execution_count": 10,
   "id": "1b9b99f6",
   "metadata": {},
   "outputs": [],
   "source": [
    "def getColumn(Matrix, pColumn):\n",
    "    if pColumn > len(Matrix[0]):\n",
    "        return 'Invalid! Column position is not exists'\n",
    "    \n",
    "    row = len(Matrix)\n",
    "    result = []\n",
    "    for i in range(row):\n",
    "        result.append(Matrix[i][pColumn])\n",
    "        \n",
    "    return result"
   ]
  },
  {
   "cell_type": "code",
   "execution_count": 11,
   "id": "f75d5942",
   "metadata": {},
   "outputs": [],
   "source": [
    "def isValidToMultiple(A, B):\n",
    "    columnA = len(A[0])\n",
    "    rowB = len(B)\n",
    "    \n",
    "    if columnA == rowB:\n",
    "        return True\n",
    "    return False\n",
    "\n",
    "def multiple2Matrixs(A, B):\n",
    "    if isValidToMultiple(A, B) == False:\n",
    "        return 'Invalid! Cannot multiple'\n",
    "    \n",
    "    result = []\n",
    "    row = len(A)\n",
    "    column = len(B[0])\n",
    "    \n",
    "    for i in range(row):\n",
    "        line = []\n",
    "        for j in range(column):\n",
    "            columnB = getColumn(B, j)\n",
    "            line.append(dotProduct(A[i], columnB))\n",
    "        result.append(line)\n",
    "        \n",
    "    return result"
   ]
  },
  {
   "cell_type": "code",
   "execution_count": 12,
   "id": "fb5e3e26",
   "metadata": {},
   "outputs": [],
   "source": [
    "def GramSchmidtProcess(setU):\n",
    "    setV = []\n",
    "    n = len(setU)\n",
    "    for i in range(n):\n",
    "        v = setU[i]\n",
    "        for j in range(i):\n",
    "            tempV = setV[j]\n",
    "            temp = - dotProduct(setU[i], setV[j]) / norm(setV[j])**2\n",
    "            tempV = multipleVectorAndNumber(tempV, temp)\n",
    "            v = addTwoVectors(v, tempV)\n",
    "        setV.append(v)\n",
    "        \n",
    "    setQ = []\n",
    "    for i in range(n):\n",
    "        q = multipleVectorAndNumber(setV[i], 1.0/norm(setV[i]))\n",
    "        setQ.append(q)\n",
    "\n",
    "    return setQ"
   ]
  },
  {
   "cell_type": "code",
   "execution_count": 13,
   "id": "ae217b91",
   "metadata": {},
   "outputs": [],
   "source": [
    "def makeClear(Matrix):\n",
    "    row = len(Matrix)\n",
    "    column = len(Matrix[0])\n",
    "    \n",
    "    for i in range(row):\n",
    "        for j in range(column):\n",
    "            if abs(Matrix[i][j]) < 0.000001:\n",
    "                Matrix[i][j] = 0\n",
    "\n",
    "def decompositionQR(Matrix):\n",
    "    n = len(Matrix)\n",
    "    setU = getVectorByColumn(Matrix, n, n)\n",
    "    setQ = GramSchmidtProcess(setU)\n",
    "    \n",
    "    matrixQ = generateMatrixFromSetOfColumnVectors(setQ)\n",
    "    transpose_matrixQ = transposeMatrix(matrixQ)\n",
    "    matrixR = multiple2Matrixs(transpose_matrixQ, Matrix)\n",
    "    \n",
    "    makeClear(matrixQ)\n",
    "    makeClear(matrixR)\n",
    "    \n",
    "    return matrixQ, matrixR"
   ]
  },
  {
   "cell_type": "code",
   "execution_count": 14,
   "id": "f0148cf4",
   "metadata": {},
   "outputs": [
    {
     "name": "stdout",
     "output_type": "stream",
     "text": [
      "Enter n (dim of matrix):3\n",
      "Enter the value in cell [1][1]:1\n",
      "Enter the value in cell [1][2]:1\n",
      "Enter the value in cell [1][3]:1\n",
      "Enter the value in cell [2][1]:2\n",
      "Enter the value in cell [2][2]:-2\n",
      "Enter the value in cell [2][3]:2\n",
      "Enter the value in cell [3][1]:1\n",
      "Enter the value in cell [3][2]:1\n",
      "Enter the value in cell [3][3]:-1\n",
      "[1, 1, 1]\n",
      "[2, -2, 2]\n",
      "[1, 1, -1]\n"
     ]
    }
   ],
   "source": [
    "A = inputMatrix()\n",
    "printMatrix(A)"
   ]
  },
  {
   "cell_type": "code",
   "execution_count": 15,
   "id": "79b26d27",
   "metadata": {},
   "outputs": [
    {
     "name": "stdout",
     "output_type": "stream",
     "text": [
      "Matrix A: \n",
      "[1, 1, 1]\n",
      "[2, -2, 2]\n",
      "[1, 1, -1]\n",
      "\n",
      "Matrix Q: \n",
      "[0.4082482904638631, 0.5773502691896257, 0.7071067811865474]\n",
      "[0.8164965809277261, -0.5773502691896256, 0]\n",
      "[0.4082482904638631, 0.5773502691896257, -0.7071067811865476]\n",
      "\n",
      "Matrix R: \n",
      "[2.4494897427831783, -0.816496580927726, 1.632993161855452]\n",
      "[0, 2.309401076758503, -1.1547005383792512]\n",
      "[0, 0, 1.414213562373095]\n"
     ]
    }
   ],
   "source": [
    "Q, R = decompositionQR(A)\n",
    "\n",
    "print(\"Matrix A: \")\n",
    "printMatrix(A)\n",
    "print()\n",
    "\n",
    "print(\"Matrix Q: \")\n",
    "printMatrix(Q)\n",
    "print()\n",
    "\n",
    "print(\"Matrix R: \")\n",
    "printMatrix(R)"
   ]
  },
  {
   "cell_type": "markdown",
   "id": "8ff2e464",
   "metadata": {},
   "source": [
    "##  Functions describe:\n",
    " 1. **decompositionQR:** decompositing from matrix A to matrix Q multiple with matrix R\n",
    " 2. **makeClear:** if any cell in matrix have value 0 in dynamic float such as -3.24358459324e-19, reassign it to value 0. 0\n",
    " 3. **GramSchmidtProcess:** calculate orthonormal set q from set of vector u\n",
    " 4. **multiple2Matrixs:** multiple matrix A by matrix B\n",
    " 5. **isValidToMultiple:** if column of matrix A is equal row of matrix B, return True. Otherwise, return False.\n",
    " 6. **getColumn:** return a vector by column at the position pColumn in Matrix\n",
    " 7. **multipleVectorAndNumber:** multiple each elements in vector by number\n",
    " 8. **norm:** calculate the norm of vector\n",
    " 9. **dotProduct:** calculate dot product of 2 vectors\n",
    " 10. **getVectorByColumn:** get set of vector from matrix by column\n",
    " 11. **transposeMatrix:** generate transpose matrix from original matrix\n",
    " 12. **generateMatrixFromSetOfColumnVectors:** generate matrix from set of column vectors\n",
    " 13. **addTwoVectors:** add first vector by second vector\n",
    " 14. **inputMatrix:** input matrix from key board\n",
    " 15. **printMatrix:** print matrix "
   ]
  },
  {
   "cell_type": "markdown",
   "id": "f3c24a4f",
   "metadata": {},
   "source": [
    "# 2) EXTEND"
   ]
  },
  {
   "cell_type": "code",
   "execution_count": 16,
   "id": "cb287cf2",
   "metadata": {},
   "outputs": [
    {
     "name": "stdout",
     "output_type": "stream",
     "text": [
      "Matrix A:\n",
      "[[ 1  1  1]\n",
      " [ 2 -2  2]\n",
      " [ 1  1 -1]]\n",
      "\n",
      "Matrix Q:\n",
      "[[-4.08248290e-01  5.77350269e-01 -7.07106781e-01]\n",
      " [-8.16496581e-01 -5.77350269e-01 -5.37546367e-17]\n",
      " [-4.08248290e-01  5.77350269e-01  7.07106781e-01]]\n",
      "\n",
      "Matrix R:\n",
      "[[-2.44948974  0.81649658 -1.63299316]\n",
      " [ 0.          2.30940108 -1.15470054]\n",
      " [ 0.          0.         -1.41421356]]\n"
     ]
    }
   ],
   "source": [
    "import numpy as np\n",
    "\n",
    "A = np.array(A)\n",
    "\n",
    "Q, R = np.linalg.qr(A)\n",
    "\n",
    "print(\"Matrix A:\")\n",
    "print(A)\n",
    "print()\n",
    "\n",
    "print(\"Matrix Q:\")\n",
    "print(Q)\n",
    "print()\n",
    "\n",
    "print(\"Matrix R:\")\n",
    "print(R)"
   ]
  },
  {
   "cell_type": "markdown",
   "id": "e3360d35",
   "metadata": {},
   "source": [
    "## Comparing results\n",
    "    The results of algorithm in Topic 1 and numpy in Topic 2 (extend) are the same"
   ]
  },
  {
   "cell_type": "markdown",
   "id": "edb63729",
   "metadata": {},
   "source": [
    "## QR decomposition applications\n",
    "\n",
    " 1. **Solving linear systems:** QR decomposition can be used to solve linear systems of equations efficiently. By decomposing the coefficient matrix into QR form, the system can be rewritten as a triangular system, which is easier to solve. This method is particularly useful for solving overdetermined systems (more equations than variables) in a least squares sense.\n",
    "\n",
    " 2. **Eigenvalue computation:** QR decomposition is commonly used to compute the eigenvalues of a matrix. The QR algorithm, which repeatedly applies QR decomposition to a matrix, converges to the eigenvalues and eigenvectors of the matrix. This algorithm is widely used in numerical linear algebra for eigenvalue computations.\n",
    "\n",
    " 3. **Least squares regression:** QR decomposition can be utilized for solving least squares regression problems. Given a set of data points and a model, QR decomposition can provide an efficient way to find the coefficients of the model that best fit the data. This is particularly useful when dealing with large datasets or when the matrix of the regression problem is ill-conditioned.\n",
    "\n",
    " 4. **Matrix inversion:** QR decomposition can be employed to compute the inverse of a matrix. By decomposing the matrix into QR form, the inverse can be computed by solving a series of triangular systems. This approach is particularly useful when the matrix is sparse or ill-conditioned.\n",
    "\n",
    " 5. **Signal processing:** QR decomposition can be used in signal processing applications such as digital filtering and signal compression. It allows for efficient decomposition of matrices and can facilitate operations such as filtering, noise reduction, and compression.\n",
    "\n",
    " 6. **Orthogonalization:** QR decomposition can be utilized to orthogonalize a set of vectors. Given a set of linearly dependent vectors, QR decomposition can be used to find an orthogonal set of vectors that spans the same subspace. This is particularly useful in applications such as signal processing, image compression, and data analysis.\n",
    "\n",
    " 7. **Matrix rank estimation:** QR decomposition can provide an estimate of the rank of a matrix. The rank of a matrix corresponds to the maximum number of linearly independent rows or columns. By examining the diagonal elements of the R matrix, one can determine the rank of the original matrix."
   ]
  },
  {
   "cell_type": "code",
   "execution_count": null,
   "id": "855b0566",
   "metadata": {},
   "outputs": [],
   "source": []
  }
 ],
 "metadata": {
  "kernelspec": {
   "display_name": "Python 3 (ipykernel)",
   "language": "python",
   "name": "python3"
  },
  "language_info": {
   "codemirror_mode": {
    "name": "ipython",
    "version": 3
   },
   "file_extension": ".py",
   "mimetype": "text/x-python",
   "name": "python",
   "nbconvert_exporter": "python",
   "pygments_lexer": "ipython3",
   "version": "3.10.9"
  }
 },
 "nbformat": 4,
 "nbformat_minor": 5
}
